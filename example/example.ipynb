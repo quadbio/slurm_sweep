{
 "cells": [
  {
   "cell_type": "markdown",
   "metadata": {},
   "source": [
    "# Example usage"
   ]
  },
  {
   "cell_type": "code",
   "execution_count": 5,
   "metadata": {},
   "outputs": [
    {
     "name": "stdout",
     "output_type": "stream",
     "text": [
      "The autoreload extension is already loaded. To reload it, use:\n",
      "  %reload_ext autoreload\n"
     ]
    }
   ],
   "source": [
    "%load_ext autoreload\n",
    "%autoreload 2"
   ]
  },
  {
   "cell_type": "code",
   "execution_count": 36,
   "metadata": {},
   "outputs": [],
   "source": [
    "from slurm_sweep import SweepManager"
   ]
  },
  {
   "cell_type": "code",
   "execution_count": 37,
   "metadata": {},
   "outputs": [
    {
     "data": {
      "text/plain": [
       "<slurm_sweep.sweep_class.SweepManager at 0x150dd203bd10>"
      ]
     },
     "execution_count": 37,
     "metadata": {},
     "output_type": "execute_result"
    }
   ],
   "source": [
    "sm = SweepManager()\n",
    "sm"
   ]
  },
  {
   "cell_type": "code",
   "execution_count": 38,
   "metadata": {},
   "outputs": [],
   "source": [
    "sweep_configuration = {\n",
    "    \"name\": \"sweepdemo\",\n",
    "    \"method\": \"grid\",\n",
    "    \"metric\": {\"goal\": \"maximize\", \"name\": \"val_acc\"},\n",
    "    \"parameters\": {\n",
    "        \"lr\": {\"values\": [0.001, 0.01]},\n",
    "        \"batch_size\": {\"values\": [16, 32, 64]},\n",
    "        \"epochs\": {\"values\": [5, 10, 15]},\n",
    "    },\n",
    "}"
   ]
  },
  {
   "cell_type": "code",
   "execution_count": 39,
   "metadata": {},
   "outputs": [
    {
     "name": "stdout",
     "output_type": "stream",
     "text": [
      "Create sweep with ID: respj8eb\n",
      "Sweep URL: https://wandb.ai/spatial_vi/sweep_test/sweeps/respj8eb\n",
      "Sweep registered with ID: respj8eb\n"
     ]
    }
   ],
   "source": [
    "sm.register_sweep(sweep_config=sweep_configuration, project_name=\"sweep_test\", entity=\"spatial_vi\")"
   ]
  },
  {
   "cell_type": "code",
   "execution_count": 41,
   "metadata": {},
   "outputs": [
    {
     "name": "stdout",
     "output_type": "stream",
     "text": [
      "Submitting slurm job array with the following configuration:\n",
      " #!/bin/sh\n",
      "\n",
      "#SBATCH --array               0-1\n",
      "#SBATCH --job-name            sweep\n",
      "#SBATCH --mem-per-cpu         1G\n",
      "#SBATCH --output              slurm_logs/wandb_grid_%A_%a.out\n",
      "#SBATCH --time                1:00:00\n",
      "\n",
      "module load stack eth_proxy\n",
      "source \\$HOME/.bashrc\n",
      "mamba activate py312\n",
      "\n",
      "Submitted batch job 28736767\n",
      "\n"
     ]
    }
   ],
   "source": [
    "sm.submit_jobs(mamba_env=\"py312\")"
   ]
  },
  {
   "cell_type": "code",
   "execution_count": 13,
   "metadata": {},
   "outputs": [],
   "source": [
    "from simple_slurm import Slurm"
   ]
  },
  {
   "cell_type": "code",
   "execution_count": 17,
   "metadata": {},
   "outputs": [
    {
     "name": "stdout",
     "output_type": "stream",
     "text": [
      "#!/bin/sh\n",
      "\n",
      "#SBATCH --job-name            None\n",
      "\n"
     ]
    }
   ],
   "source": [
    "print(Slurm(job_name=None))"
   ]
  },
  {
   "cell_type": "code",
   "execution_count": null,
   "metadata": {},
   "outputs": [],
   "source": []
  }
 ],
 "metadata": {
  "kernelspec": {
   "display_name": "slurm_sweep",
   "language": "python",
   "name": "python3"
  },
  "language_info": {
   "codemirror_mode": {
    "name": "ipython",
    "version": 3
   },
   "file_extension": ".py",
   "mimetype": "text/x-python",
   "name": "python",
   "nbconvert_exporter": "python",
   "pygments_lexer": "ipython3",
   "version": "3.12.9"
  }
 },
 "nbformat": 4,
 "nbformat_minor": 2
}
